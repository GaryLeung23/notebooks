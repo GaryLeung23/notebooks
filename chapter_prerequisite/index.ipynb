{
 "cells": [
  {
   "cell_type": "markdown",
   "metadata": {},
   "source": [
    "# Prerequisites\n",
    "\n",
    "Before hands on learning, we need to acquire the codes in the book, and install the software program or programs needed to run them.  For hands-on deep learning of the basics, we need to also understand how to manipulate memory data and how to calculate a function gradient.  Finally, we should develop the habit of looking for documents to supplement our code knowledge."
   ]
  },
  {
   "cell_type": "markdown",
   "metadata": {},
   "source": [
    "```eval_rst\n",
    "\n",
    ".. toctree::\n",
    "   :maxdepth: 2\n",
    "\n",
    "   install\n",
    "   ndarray\n",
    "   autograd\n",
    "   lookup-api\n",
    "\n",
    "```\n"
   ]
  }
 ],
 "metadata": {
  "accelerator": "GPU",
  "language_info": {
   "name": "python"
  }
 },
 "nbformat": 4,
 "nbformat_minor": 2
}