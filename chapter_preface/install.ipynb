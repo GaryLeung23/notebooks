{
 "cells": [
  {
   "cell_type": "markdown",
   "metadata": {},
   "source": [
    "# Installation\n",
    "\n",
    "To get you up and running with hands-on experience\n",
    "we'll need you to set up with a Python environment,\n",
    "jupyter's interactive notebooks,\n",
    "the relevant libraries, and the code need to *run the book*.\n",
    "In this section, we will guide you through the following steps:\n",
    "\n",
    "1. Install conda\n",
    "1. Download the code that goes with the book\n",
    "1. Install GPU drivers if you have a GPU and haven't used it before\n",
    "1. Build the conda environment to run MXNet and the examples of the book\n",
    "\n",
    "\n",
    "## Installing Conda\n",
    "\n",
    "For simplicity we recommend [conda](https://conda.io), a popular Python package manager to install all libraries.\n",
    "\n",
    "1. Download and install [Miniconda](https://conda.io/miniconda.html) at [conda.io/miniconda.html](https://conda.io/miniconda.html) based on your operating system.\n",
    "1. Update your shell by `source ~/.bashrc` (Linux) or `source ~/.bash_profile` (macOS). Make sure to add Anaconda to your PATH environment variable.\n",
    "1. Download the tarball containing the notebooks from this book. This can be found at [www.d2l.ai/d2l-en-1.0.zip](https://www.d2l.ai/d2l-en-1.0.zip). Alternatively feel free to clone the latest version from GitHub.\n",
    "1. Uncompress the ZIP file and move its contents to a folder for the tutorials.\n",
    "\n",
    "On Linux this can be accomplished as follows from the command line; For MacOS replace Linux by MacOSX in the first line, for Windows follow the links provided above."
   ]
  },
  {
   "cell_type": "markdown",
   "metadata": {},
   "source": [
    "```\n",
    "wget https://repo.anaconda.com/miniconda/Miniconda3-latest-Linux-x86_64.sh\n",
    "sh Miniconda3-latest-Linux-x86_64.sh\n",
    "mkdir d2l-en\n",
    "cd d2l-en\n",
    "curl https://www.d2l.ai/d2l-en-1.0.zip -o d2l-en.zip\n",
    "unzip d2l-en-1.0.zip\n",
    "rm d2l-en-1.0.zip\n",
    "```\n"
   ]
  },
  {
   "cell_type": "markdown",
   "metadata": {},
   "source": [
    "## GPU Support\n",
    "\n",
    "By default MXNet is installed without GPU support\n",
    "to ensure that it will run on any computer (including most laptops).\n",
    "If you're fortunate enough to be running on a GPU-enabled computer,\n",
    "you should modify the conda environment to download the CUDA enabled build.\n",
    "Not that you will need to have the appropriate drivers installed.\n",
    "In particular you need to:\n",
    "\n",
    "1. Ensure that you install the [NVIDIA Drivers](https://www.nvidia.com/drivers)\n",
    "for your specific GPU.\n",
    "1. Install [CUDA](https://developer.nvidia.com/cuda-downloads),\n",
    "the programming language for GPUs.\n",
    "1. Install [CUDNN](https://developer.nvidia.com/cudnn),\n",
    "which contains many optimized libraries for deep learning.\n",
    "1. Install [TensorRT](https://developer.nvidia.com/tensorrt),\n",
    "if appropriate, for further acceleration.\n",
    "\n",
    "The installation process is somewhat lengthy\n",
    "and you will need to agree to a number of different licenses.\n",
    "Details will depend strongly on your choice of operating system and hardware.\n",
    "\n",
    "Next, update the environment description in `environment.yml`.\n",
    "Likely, you'll want to replace `mxnet` by `mxnet-cu92`.\n",
    "The number following the hyphen (92 above)\n",
    "corresponds to the version of CUDA you installed).\n",
    "For instance, if you're on CUDA 8.0,\n",
    "you need to replace `mxnet-cu92` with `mxnet-cu80`.\n",
    "You should do this *before* creating the conda environment.\n",
    "Otherwise you will need to rebuild it later.\n",
    "On Linux this looks as follows\n",
    "(on Windows you can use e.g. Notepad to edit `environment.yml` directly)."
   ]
  },
  {
   "cell_type": "markdown",
   "metadata": {},
   "source": [
    "```\n",
    "cd d2l\n",
    "emacs environment.yml\n",
    "```\n"
   ]
  },
  {
   "cell_type": "markdown",
   "metadata": {},
   "source": [
    "## Conda Environment\n",
    "\n",
    "Conda provides a mechanism for managing Python libraries\n",
    "in a reproducible and reliable manner.\n",
    "To set up your environment, you'll need to:\n",
    "\n",
    "1. Create and activate the environment using conda. For convenience we created an `environment.yml` file to hold all configuration.\n",
    "1. Activate the environment.\n",
    "1. Open Jupyter notebooks to start experimenting.\n",
    "\n",
    "## Windows\n",
    "\n",
    "As before, open the command line terminal."
   ]
  },
  {
   "cell_type": "markdown",
   "metadata": {},
   "source": [
    "```\n",
    "conda env create -f environment.yml\n",
    "cd d2l-en\n",
    "activate gluon\n",
    "jupyter notebook\n",
    "```\n"
   ]
  },
  {
   "cell_type": "markdown",
   "metadata": {},
   "source": [
    "If you need to reactivate the set of libraries later, just skip the first line.\n",
    "This will ensure that your setup is active.\n",
    "Note that instead of Jupyter Notebooks you can also use JupyterLab\n",
    "via `jupyter lab` instead of `jupyter notebook`.\n",
    "This will give you a more powerful Jupyter environment\n",
    "(if you have JupyterLab installed).\n",
    "You can do this manually via `conda install jupyterlab`\n",
    "from within an active conda gluon environment.\n",
    "\n",
    "If your browser integration is working properly,\n",
    "starting Jupyter will open a new window in your browser.\n",
    "If this doesn't happen, go to http://localhost:8888 to open it manually.\n",
    "Some notebooks will automatically download the data set and pre-training model.\n",
    "You can adjust the location of the repository by overriding the `MXNET_GLUON_REPO` variable.\n",
    "\n",
    "## Linux and MacOSX\n",
    "\n",
    "The steps for Linux are similar but instead of `activate gluon`, you'll want to run `source activate gluon`."
   ]
  },
  {
   "cell_type": "markdown",
   "metadata": {},
   "source": [
    "```\n",
    "conda env create -f environment.yml\n",
    "cd d2l-en\n",
    "source activate gluon\n",
    "jupyter notebook\n",
    "```\n"
   ]
  },
  {
   "cell_type": "markdown",
   "metadata": {},
   "source": [
    "## Updating Gluon\n",
    "\n",
    "In case you want to update the repository,\n",
    "if you installed a new version of CUDA and (or) MXNet,\n",
    "you can simply use the conda commands to do this.\n",
    "As before, make sure you update the packages accordingly."
   ]
  },
  {
   "cell_type": "markdown",
   "metadata": {},
   "source": [
    "```\n",
    "cd d2l-en\n",
    "conda env update -f environment.yml\n",
    "```\n"
   ]
  },
  {
   "cell_type": "markdown",
   "metadata": {},
   "source": [
    "## Exercises\n",
    "1. Download the code for the book and install the runtime environment.\n",
    "\n",
    "\n",
    "## Discuss on our Forum\n",
    "\n",
    "\n",
    "[Link to the discuss thread.](https://discuss.mxnet.io/t/2315)."
   ]
  }
 ],
 "metadata": {
  "accelerator": "GPU",
  "language_info": {
   "name": "python"
  }
 },
 "nbformat": 4,
 "nbformat_minor": 2
}