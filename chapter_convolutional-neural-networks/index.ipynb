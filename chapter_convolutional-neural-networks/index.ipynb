{
 "cells": [
  {
   "cell_type": "markdown",
   "metadata": {},
   "source": [
    "# Convolutional Neural Networks\n",
    "\n",
    "In this chapter we introduce convolutional neural networks. They are\n",
    "the first nontrivial *architecture* beyond the humble multilayer\n",
    "perceptron. In their design scientists used inspiration from biology,\n",
    "group theory, and lots of experimentation to achieve stunning results\n",
    "in object recognition, segmentation, image synthesis and related\n",
    "computer vision tasks. 'Convnets', as they are often called, have\n",
    "become a cornerstone for deep learning research. Their applications\n",
    "reach beyond images to audio, text, video, time series analysis,\n",
    "graphs and recommender systems.\n",
    "\n",
    "We will first describe the operating principles of the convolutional\n",
    "layer and pooling layer in a convolutional neural network, and then\n",
    "explain padding, stride, input channels, and output channels. Next we\n",
    "will explore the design concepts of several representative deep\n",
    "convolutional neural networks. These models include the AlexNet, the\n",
    "first such network proposed, and later networks that use repeating\n",
    "elements (VGG), network in network (NiN), networks with parallel\n",
    "concatenations (GoogLeNet), residual networks (ResNet), and densely\n",
    "connected networks (DenseNet).  Many of these networks have led to\n",
    "significant progress in the ImageNet competition (a famous computer\n",
    "vision contest) within the past few years.\n",
    "\n",
    "Over time the networks have increased in depth significantly,\n",
    "exceeding hundreds of layers. To train on them efficiently tools for\n",
    "capacity control, reparametrization and training acceleration are\n",
    "needed. Batch normalization and residual networks are both used to\n",
    "address these problems. We will describe them in this chapter."
   ]
  },
  {
   "cell_type": "markdown",
   "metadata": {},
   "source": [
    "```eval_rst\n",
    "\n",
    ".. toctree::\n",
    "   :maxdepth: 2\n",
    "\n",
    "   why-conv\n",
    "   conv-layer\n",
    "   padding-and-strides\n",
    "   channels\n",
    "   pooling\n",
    "   lenet\n",
    "   alexnet\n",
    "   vgg\n",
    "   nin\n",
    "   googlenet\n",
    "   batch-norm\n",
    "   resnet\n",
    "   densenet\n",
    "```\n"
   ]
  }
 ],
 "metadata": {
  "accelerator": "GPU",
  "language_info": {
   "name": "python"
  }
 },
 "nbformat": 4,
 "nbformat_minor": 2
}