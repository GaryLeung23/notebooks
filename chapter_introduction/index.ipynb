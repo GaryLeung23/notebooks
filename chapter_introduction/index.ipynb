{
 "cells": [
  {
   "cell_type": "markdown",
   "metadata": {},
   "source": [
    "# Introduction\n",
    "\n",
    "Recent years have witnessed rapid progress in deep learning. It has\n",
    "changed the approach to artificial intelligence and statistics\n",
    "fundamentally. This chapter gives a brief introduction to what deep\n",
    "learning is and how to use this book."
   ]
  },
  {
   "cell_type": "markdown",
   "metadata": {},
   "source": [
    "```eval_rst\n",
    "\n",
    ".. toctree::\n",
    "   :maxdepth: 2\n",
    "\n",
    "   preface\n",
    "   deep-learning-intro\n",
    "   how-to-use\n",
    "\n",
    "```\n"
   ]
  }
 ],
 "metadata": {
  "accelerator": "GPU",
  "language_info": {
   "name": "python"
  }
 },
 "nbformat": 4,
 "nbformat_minor": 2
}