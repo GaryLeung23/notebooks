{
 "cells": [
  {
   "cell_type": "markdown",
   "metadata": {},
   "source": [
    "# Naive Bayes Classification\n",
    "\n",
    "Conditional independence is useful when dealing with data, since it simplifies a lot of equations. A popular (and very simple) algorithm is the Naive Bayes Classifier.\n",
    "The key assumption in it is that the attributes are all independent of each other, given the labels. In other words, we have:\n",
    "\n",
    "$$p(\\mathbf{x} | y) = \\prod_i p(x_i | y)$$\n",
    "\n",
    "Using Bayes Theorem this leads to the classifier $p(y | \\mathbf{x}) = \\frac{\\prod_i p(x_i | y) p(y)}{p(\\mathbf{x})}$. Unfortunately, this is still intractable, since we don't know $p(x)$. Fortunately, we don't need it, since we know that $\\sum_y p(y | \\mathbf{x}) = 1$, hence we can always recover the normalization from\n",
    "\n",
    "$$p(y | \\mathbf{x}) \\propto \\prod_i p(x_i | y) p(y).$$\n",
    "\n",
    "To illustrate this a bit, consider classifying emails into spam and ham. It's fair to say that the occurrence of the words `Nigeria`, `prince`, `money`, `rich` are all likely indicators that the e-mail might be spam, whereas `theorem`, `network`, `Bayes` or `statistics` are pretty good indicators that there's substance the message. We could thus model the probability of occurrence for each of these words, given the respective class and then use it to score the likelihood of a text. In fact, for a long time this *is* what many so-called [Bayesian spam filters](https://en.wikipedia.org/wiki/Naive_Bayes_spam_filtering) used.\n",
    "\n",
    "## Optical Character Recognition\n",
    "\n",
    "Since images are much easier to deal with, we will illustrate the workings of a Naive Bayes classifier for distinguishing digits on the MNIST dataset. The problem is that we don't actually know $p(y)$ and $p(x_i | y)$. So we need to *estimate* it given some training data first. This is what is called *training* the model. Estimating $p(y)$ is not too hard. Since we are only dealing with 10 classes, this is pretty easy - simply count the number of occurrences $n_y$ for each of the digits and divide it by the total amount of data $n$. For instance, if digit 8 occurs $n_8 = 5,800$ times and we have a total of $n = 60,000$ images, the probability estimate is $p(y=8) = 0.0967$.\n",
    "\n",
    "Now on to slightly more difficult things - $p(x_i | y)$. Since we picked black and white images, $p(x_i | y)$ denotes the probability that pixel $i$ is switched on for class $y$. Just like before we can go and count the number of times $n_{iy}$ that such an event occurs and divide it by the total number of occurrences of y, i.e. $n_y$. But there's something slightly troubling. It might be that certain pixels are never black (e.g. for very well cropped images the corner pixels might always be white). A convenient way for statisticians to deal with this problem is to add pseudo counts to all occurrences. Hence, rather than $n_{iy}$ we use $n_{iy}+1$ and instead of $n_y$ we use $n_{y} + 1$. This is also called [Laplace Smoothing](https://en.wikipedia.org/wiki/Additive_smoothing)."
   ]
  },
  {
   "cell_type": "code",
   "execution_count": 1,
   "metadata": {
    "attributes": {
     "classes": [],
     "id": "",
     "n": "1"
    }
   },
   "outputs": [],
   "source": [
    "%matplotlib inline\n",
    "from matplotlib import pyplot as plt\n",
    "from IPython import display\n",
    "display.set_matplotlib_formats('svg')\n",
    "import mxnet as mx\n",
    "from mxnet import nd\n",
    "import numpy as np\n",
    "\n",
    "# we go over one observation at a time (speed doesn't matter here)\n",
    "def transform(data, label):\n",
    "    return (nd.floor(data/128)).astype(np.float32), label.astype(np.float32)\n",
    "mnist_train = mx.gluon.data.vision.MNIST(train=True, transform=transform)\n",
    "mnist_test  = mx.gluon.data.vision.MNIST(train=False, transform=transform)\n",
    "\n",
    "# initialize the counters\n",
    "xcount = nd.ones((784,10))\n",
    "ycount = nd.ones((10))\n",
    "\n",
    "for data, label in mnist_train:\n",
    "    y = int(label)\n",
    "    ycount[y] += 1\n",
    "    xcount[:,y] += data.reshape((784))\n",
    "\n",
    "# using broadcast again for division\n",
    "py = ycount / ycount.sum()\n",
    "px = (xcount / ycount.reshape(1,10))"
   ]
  },
  {
   "cell_type": "markdown",
   "metadata": {},
   "source": [
    "Now that we computed per-pixel counts of occurrence for all pixels, it's time to see how our model behaves. Time to plot it. This is where it is so much more convenient to work with images. Visualizing 28x28x10 probabilities (for each pixel for each class) would typically be an exercise in futility. However, by plotting them as images we get a quick overview. The astute reader probably noticed by now that these are some mean looking digits ..."
   ]
  },
  {
   "cell_type": "code",
   "execution_count": 2,
   "metadata": {
    "attributes": {
     "classes": [],
     "id": "",
     "n": "2"
    }
   },
   "outputs": [],
   "source": [
    "import matplotlib.pyplot as plt\n",
    "fig, figarr = plt.subplots(1, 10, figsize=(10, 10))\n",
    "for i in range(10):\n",
    "    figarr[i].imshow(xcount[:, i].reshape((28, 28)).asnumpy(), cmap='hot')\n",
    "    figarr[i].axes.get_xaxis().set_visible(False)\n",
    "    figarr[i].axes.get_yaxis().set_visible(False)\n",
    "\n",
    "plt.show()\n",
    "print('Class probabilities', py)"
   ]
  },
  {
   "cell_type": "markdown",
   "metadata": {},
   "source": [
    "Now we can compute the likelihoods of an image, given the model. This is statistican speak for $p(x | y)$, i.e. how likely it is to see a particular image under certain conditions (such as the label). Our Naive Bayes model which assumed that all pixesl are independent tells us that\n",
    "\n",
    "$$p(\\mathbf{x} | y) = \\prod_{i} p(x_i | y)$$\n",
    "\n",
    "Using Bayes' rule, we can thus compute $p(y | \\mathbf{x})$ via\n",
    "\n",
    "$$p(y | \\mathbf{x}) = \\frac{p(\\mathbf{x} | y)}{\\sum_{y'} p(\\mathbf{x} | y')}$$\n",
    "\n",
    "Let's try this ..."
   ]
  },
  {
   "cell_type": "code",
   "execution_count": 3,
   "metadata": {
    "attributes": {
     "classes": [],
     "id": "",
     "n": "3"
    }
   },
   "outputs": [],
   "source": [
    "# get the first test item\n",
    "data, label = mnist_test[0]\n",
    "data = data.reshape((784,1))\n",
    "\n",
    "# compute the per pixel conditional probabilities\n",
    "xprob = (px * data + (1-px) * (1-data))\n",
    "# take the product\n",
    "xprob = xprob.prod(0) * py\n",
    "print('Unnormalized Probabilities', xprob)\n",
    "# and normalize\n",
    "xprob = xprob / xprob.sum()\n",
    "print('Normalized Probabilities', xprob)"
   ]
  },
  {
   "cell_type": "markdown",
   "metadata": {},
   "source": [
    "This went horribly wrong! To find out why, let's look at the per pixel probabilities. They're typically numbers between $0.001$ and $1$. We are multiplying $784$ of them. At this point it is worth mentioning that we are calculating these numbers on a computer, hence with a fixed range for the exponent. What happens is that we experience *numerical underflow*, i.e. multiplying all the small numbers leads to something even smaller until it is rounded down to zero. At that point we get division by zero with `nan` as a result.\n",
    "\n",
    "To fix this we use the fact that $\\log a b = \\log a + \\log b$, i.e. we switch to summing logarithms. This will get us unnormalized probabilities in log-space. To normalize terms we use the fact that\n",
    "\n",
    "$$\\frac{\\exp(a)}{\\exp(a) + \\exp(b)} = \\frac{\\exp(a + c)}{\\exp(a + c) + \\exp(b + c)}$$\n",
    "\n",
    "In particular, we can pick $c = -\\max(a,b)$, which ensures that at least one of the terms in the denominator is $1$."
   ]
  },
  {
   "cell_type": "code",
   "execution_count": 4,
   "metadata": {
    "attributes": {
     "classes": [],
     "id": "",
     "n": "4"
    }
   },
   "outputs": [],
   "source": [
    "logpx = nd.log(px)\n",
    "logpxneg = nd.log(1-px)\n",
    "logpy = nd.log(py)\n",
    "\n",
    "def bayespost(data):\n",
    "    # we need to incorporate the prior probability p(y) since p(y|x) is\n",
    "    # proportional to p(x|y) p(y)\n",
    "    logpost = logpy.copy()\n",
    "    logpost += (logpx * x + logpxneg * (1-x)).sum(0)\n",
    "    # normalize to prevent overflow or underflow by subtracting the largest\n",
    "    # value\n",
    "    logpost -= nd.max(logpost)\n",
    "    # and compute the softmax using logpx\n",
    "    post = nd.exp(logpost).asnumpy()\n",
    "    post /= np.sum(post)\n",
    "    return post\n",
    "\n",
    "fig, figarr = plt.subplots(2, 10, figsize=(10, 3))\n",
    "\n",
    "# show 10 images\n",
    "ctr = 0\n",
    "for data, label in mnist_test:\n",
    "    x = data.reshape((784,1))\n",
    "    y = int(label)\n",
    "\n",
    "    post = bayespost(x)\n",
    "\n",
    "    # bar chart and image of digit\n",
    "    figarr[1, ctr].bar(range(10), post)\n",
    "    figarr[1, ctr].axes.get_yaxis().set_visible(False)\n",
    "    figarr[0, ctr].imshow(x.reshape((28, 28)).asnumpy(), cmap='hot')\n",
    "    figarr[0, ctr].axes.get_xaxis().set_visible(False)\n",
    "    figarr[0, ctr].axes.get_yaxis().set_visible(False)\n",
    "    ctr += 1\n",
    "\n",
    "    if ctr == 10:\n",
    "        break\n",
    "\n",
    "plt.show()"
   ]
  },
  {
   "cell_type": "markdown",
   "metadata": {},
   "source": [
    "As we can see, this classifier works pretty well in many cases. However, the second last digit shows that it can be both incompetent and overly confident of its incorrect estimates. That is, even if it is horribly wrong, it generates probabilities close to 1 or 0. Not a classifier we should use very much nowadays any longer. To see how well it performs overall, let's compute the overall acuracy of the classifier."
   ]
  },
  {
   "cell_type": "code",
   "execution_count": 5,
   "metadata": {
    "attributes": {
     "classes": [],
     "id": "",
     "n": "5"
    }
   },
   "outputs": [],
   "source": [
    "# initialize counter\n",
    "ctr = 0\n",
    "err = 0\n",
    "\n",
    "for data, label in mnist_test:\n",
    "    ctr += 1\n",
    "    x = data.reshape((784,1))\n",
    "    y = int(label)\n",
    "\n",
    "    post = bayespost(x)\n",
    "    if (post[y] < post.max()):\n",
    "        err += 1\n",
    "\n",
    "print('Naive Bayes has an error rate of', err/ctr)"
   ]
  },
  {
   "cell_type": "markdown",
   "metadata": {},
   "source": [
    "Modern deep networks achieve error rates of less than 0.01. While Naive Bayes classifiers used to be popular in the 80s and 90s, e.g. for spam filtering, their heydays are over. The poor performance is due to the incorrect statistical assumptions that we made in our model: we assumed that each and every pixel are *independently* generated, depending only on the label. This is clearly not how humans write digits, and this wrong assumption led to the downfall of our overly naive (Bayes) classifier. Time to start building Deep Networks.\n",
    "\n",
    "## Summary\n",
    "\n",
    "* Naive Bayes is an easy to use classifier that uses the assumption\n",
    "  $p(\\mathbf{x} | y) = \\prod_i p(x_i | y)$.\n",
    "* The classifier is easy to train but its estimates can be very wrong.\n",
    "* To address overly confident and nonsensical estimates, the\n",
    "  probabilities $p(x_i|y)$ are smoothed, e.g. by Laplace\n",
    "  smoothing. That is, we add a constant to all counts.\n",
    "* Naive Bayes classifiers don't exploit any correlations between\n",
    "  observations.\n",
    "\n",
    "## Problems\n",
    "\n",
    "1. Design a Naive Bayes regression estimator where $p(x_i | y)$ is a normal distribution.\n",
    "1. Under which situations does Naive Bayes work?\n",
    "1. An eyewitness is sure that he could recognize the perpetrator with 90% accuracy, if he were to encounter him again.\n",
    "   * Is this a useful statement if there are only 5 suspects?\n",
    "   * Is it still useful if there are 50?\n",
    "\n",
    "## Discuss on our Forum\n",
    "\n",
    "<div id=\"discuss\" topic_id=\"2320\"></div>"
   ]
  }
 ],
 "metadata": {
  "accelerator": "GPU",
  "language_info": {
   "name": "python"
  }
 },
 "nbformat": 4,
 "nbformat_minor": 2
}