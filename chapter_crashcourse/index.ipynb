{
 "cells": [
  {
   "cell_type": "markdown",
   "metadata": {},
   "source": [
    "# A Taste of Deep Learning\n",
    "\n",
    "If you are in a hurry, this chapter has all the details you need to\n",
    "get a taste of deep learning. If you like to take the scenic route, we\n",
    "still recommend that you read it, since it will explain how to set up\n",
    "Apache MXNet, how to use automatic differentiation and how to\n",
    "manipulate data and memory. We also provide quick primers on linear\n",
    "algebra and statistics, designed to help readers to get up to speed on\n",
    "the basics."
   ]
  },
  {
   "cell_type": "markdown",
   "metadata": {},
   "source": [
    "```eval_rst\n",
    "\n",
    ".. toctree::\n",
    "   :maxdepth: 2\n",
    "\n",
    "   introduction\n",
    "   ndarray\n",
    "   linear-algebra\n",
    "   autograd\n",
    "   probability\n",
    "   naive-bayes\n",
    "   sampling\n",
    "   lookup-api\n",
    "\n",
    "```\n"
   ]
  }
 ],
 "metadata": {
  "accelerator": "GPU",
  "language_info": {
   "name": "python"
  }
 },
 "nbformat": 4,
 "nbformat_minor": 2
}